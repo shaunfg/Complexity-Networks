{
 "cells": [
  {
   "cell_type": "markdown",
   "metadata": {},
   "source": [
    "# Complexity Project\n",
    "\n",
    "Aim of complexity is to understand a subclass non-equilibrium systems\n",
    "\n",
    "Models studies include:\n",
    "1. Oslo Model"
   ]
  },
  {
   "cell_type": "code",
   "execution_count": 2,
   "metadata": {},
   "outputs": [],
   "source": [
    "import numpy as np\n",
    "import random\n",
    "import matplotlib.pyplot as plt\n",
    "import pandas as pd"
   ]
  },
  {
   "cell_type": "markdown",
   "metadata": {},
   "source": [
    "### 1. Oslo Model\n",
    "Grains are added to the left most pile, when the system has entered a staircase recurrent configuration, the grain the take L steps, before leaving the system. \n",
    "\n",
    "A recurrent configuration means that the system has reached a steady state, as it only occurs after all transient configurations have occured. Will occur with a frequency greater than one.\n",
    "\n",
    "Previously, the Oslo model algorithm such that \n",
    "1. slopes would be driven, \n",
    "2. slopes would be relaxed changing z configuration. \n",
    "3. Check if any slope is larger than their threshold\n",
    "    * If yes, repeat iteration across all slopes to relax\n",
    "    * If no, generate new threshold and return to step 1)\n",
    "    \n",
    "Although simple, this implementation was extremely inefficient and would begin to face difficulty for system sizes of L > 50. Thus a more calculated approach was taken for the Oslo model, the algorithm goes as follows:\n",
    "\n",
    "1. Drive slope\n",
    "2. Relax slope i\n",
    "3. Append to a list adjacent slopes of i (i.e. i+1, i-1), if z = z_+th + 1 (next_slopes)\n",
    "    * If i = 1, or i = L, reduce only one neighbouring slope: i= 2 and i = L-1 respectively\n",
    "4. If next_slopes are not empty, i.e. there are sites to relax, relax sites and repeat 3) if there are unrelaxed slopes. \n",
    "5. if next_slopes is empty, generate new random threshold and return to step 1) and drive system\n",
    "\n",
    "- If in an edge case, where at site i has z_th of 1, and both site i-1 and site i+1 reduce, this would not reduce the slope sufficiently to be below the threshold. Thus append site i to next_slopes to relax in the following iteration\n",
    "\n",
    "You wouldnt'expect the slope thresholds to be evenly split, because you are only driven from site i=1. Thus there are slopes closer to i =1 that are more regularly updated, in comparison to sites later down the slope. The fact that the later slopes remain in a certain threshold will skew the distribution"
   ]
  },
  {
   "cell_type": "code",
   "execution_count": 3,
   "metadata": {},
   "outputs": [],
   "source": [
    "def plot_bar(z,title = \"Oslo Model\"):\n",
    "    heights = np.cumsum(z[::-1])[::-1] #indexing to reverse list\n",
    "    plt.figure(figsize= (8,5))\n",
    "    plt.bar(np.arange(1,len(z)+1,1),heights)\n",
    "    plt.title(title)\n",
    "    plt.ylabel(\"Heights\")\n",
    "    plt.xlabel(\"sites\")"
   ]
  },
  {
   "cell_type": "code",
   "execution_count": 142,
   "metadata": {},
   "outputs": [
    {
     "name": "stdout",
     "output_type": "stream",
     "text": [
      "2\n"
     ]
    },
    {
     "data": {
      "text/plain": [
       "[7, 0, 2, 0, 1, 3, 1, 1, 1, 0, 1, 1, 1]"
      ]
     },
     "execution_count": 142,
     "metadata": {},
     "output_type": "execute_result"
    },
    {
     "data": {
      "image/png": "[encoded data removed]",
      "text/plain": [
       "<Figure size 432x288 with 1 Axes>"
      ]
     },
     "metadata": {
      "needs_background": "light"
     },
     "output_type": "display_data"
    }
   ],
   "source": [
    "class Oslo:\n",
    "    \"\"\"\n",
    "    Parameters\n",
    "    L: Number of sites \n",
    "    plot: Plots heights if true\n",
    "    p: probability\n",
    "    N_recurrents: Number of recurrent runs after reaching steady state\n",
    "    \"\"\"\n",
    "    \n",
    "    def __init__(self,L, p =[1/2,1/2]):\n",
    "        self.p = p\n",
    "        self.L = L\n",
    "\n",
    "    def run(self, plot=False, N_recurrents=10,title=None, check_slopes = False):\n",
    "\n",
    "        z = [0] * self.L\n",
    "\n",
    "        # Allows for change in probabilities\n",
    "        n = len(self.p)  # Number of thresholds, from probability\n",
    "        z_ths = np.arange(1, n + 1, 1)  # Generates possible thresholds [1,2,...]\n",
    "\n",
    "        # Initialisation\n",
    "        z_th = [random.choice(z_ths) for x in range(self.L)]\n",
    "\n",
    "        # Variables for testing\n",
    "        end_value = 0\n",
    "        avalanches = []\n",
    "        z_avg_steady = []\n",
    "        steady = False  # To\n",
    "        N_full_avalanche = 0  # Tracks full avalanches\n",
    "        configurations = []  # Find number of unique configurations\n",
    "        self.delta_heights = [0]\n",
    "        self.cross_over_times = []\n",
    "        cross_over_time = 0\n",
    "\n",
    "        while end_value < N_recurrents:\n",
    "\n",
    "            # Drive\n",
    "            z[0] += 1\n",
    "            s = 0\n",
    "            del_h = 1\n",
    "            slopes_to_relax = [0]\n",
    "\n",
    "            # Relaxation - Checks all slopes z relaxed, before driving again\n",
    "            while len(slopes_to_relax) != 0:\n",
    "                check_slopes = slopes_to_relax\n",
    "                next_slopes = []\n",
    "                for i in slopes_to_relax:\n",
    "                    if z[i] > z_th[i]:\n",
    "                        s += 1\n",
    "                        if i == 0:\n",
    "                            z[i] = z[i] - 2\n",
    "                            z[i+1] = z[i+1] + 1\n",
    "                            if z[i+1] == z_th[i+1] + 1:\n",
    "                                next_slopes.append(i+1)\n",
    "                            cross_over_time += 1\n",
    "                            del_h -= 1\n",
    "\n",
    "                        elif i == len(z) - 1:  # index 0,...,L-1 ; len to L\n",
    "                \n",
    "                            z[len(z) - 1] = z[len(z) - 1] - 1\n",
    "                            z[len(z) - 2] = z[len(z) - 2] + 1\n",
    "                            steady = True\n",
    "                            if z[len(z) - 2] == z_th[len(z) - 2] + 1:\n",
    "                                next_slopes.append(len(z) - 2)\n",
    "    #                         if steady == True: outflux += 1\n",
    "    \n",
    "                            self.cross_over_times.append(cross_over_time)\n",
    "                            cross_over_time = 0\n",
    "\n",
    "                        else:\n",
    "                            z[i] = z[i] - 2\n",
    "                            z[i + 1] = z[i + 1] + 1\n",
    "                            z[i - 1] = z[i - 1] + 1\n",
    "\n",
    "                            if z[i+1] == z_th[i+1] + 1:\n",
    "                                next_slopes.append(i+1)\n",
    "                            if z[i-1] == z_th[i-1] + 1:\n",
    "                                next_slopes.append(i-1)\n",
    "                                \n",
    "                            cross_over_time += 1\n",
    "\n",
    "                        z_th[i] = random.choice(z_ths)\n",
    "                        if z[i] > z_th[i]:\n",
    "                            next_slopes.append(i)\n",
    "                    else:\n",
    "                        cross_over_time +=1\n",
    "                        pass\n",
    "\n",
    "                if len(next_slopes) > 0:\n",
    "                    # Finds unique next slopes.\n",
    "                    slopes_to_relax = list(set(next_slopes))\n",
    "\n",
    "                else:\n",
    "                    slopes_to_relax = []\n",
    "\n",
    "                # If avalance size is whole length of sites\n",
    "    #             if s == L:\n",
    "    # #                 print(s,z)\n",
    "    #                 steady = True\n",
    "    #                 N_full_avalanche += 1\n",
    "\n",
    "\n",
    "                avalanches.append(s)\n",
    "            # out of loop\n",
    "            if steady == True:\n",
    "                end_value += 1\n",
    "                z_avg_steady.append(np.cumsum(z[::-1])[::-1][0])\n",
    "                \n",
    "            self.delta_heights.append(del_h)\n",
    "                \n",
    "            configurations.append(z[:])\n",
    "\n",
    "            # Check\n",
    "            if check_slopes == True:\n",
    "                if any(x > max(z_ths) for x in z) == True:\n",
    "                    print(z,z_th)\n",
    "                    print(check_slopes)\n",
    "\n",
    "                    raise ValueError(\"Not all sites relaxed\")\n",
    "\n",
    "        # Obtains cumulative sum of slopes, to represent heights\n",
    "        final_heights = np.cumsum(z[::-1])[::-1]  # indexing to reverse list\n",
    "\n",
    "        if plot == True:\n",
    "            plot_bar(z)\n",
    "        self.z = z\n",
    "\n",
    "        return final_heights, z, np.mean(z_avg_steady), configurations\n",
    "    \n",
    "    def get_heights(self,plot = True):\n",
    "        print(len(self.z))\n",
    "        heights = np.cumsum(self.delta_heights)\n",
    "        time = np.arange(1,len(heights)+1,1)\n",
    "        if plot == True:\n",
    "            plt.xlabel(\"Time\")\n",
    "            plt.ylabel(\"Height\")\n",
    "            plt.title(\"Height of pile against time\")\n",
    "            plt.plot(time,heights,label = \"L = {}\".format(self.L))\n",
    "        return time, heights\n",
    "    \n",
    "    def get_cross_over_times(self):\n",
    "        return self.cross_over_times\n",
    "\n",
    "check = Oslo(2)\n",
    "check.run()\n",
    "check.get_heights()\n",
    "check.get_cross_over_times()"
   ]
  },
  {
   "cell_type": "markdown",
   "metadata": {},
   "source": [
    "#TODO\n",
    "1. Figure out how to stop the iterations\n",
    "    I don't think you can us avalanche size because it is random in this\n",
    "2. Devise own tests, to test on different values of p (e.g. p = 1), Ns Nr\n",
    "3. Need to sort out steady state of Oslo, currently not entirely correct; \n",
    "4. Measure rate at which slopes changing??"
   ]
  },
  {
   "cell_type": "markdown",
   "metadata": {},
   "source": [
    "### 1.1. Test 1,2: Expected Heights at site i =1\n",
    "For p = 1/2, we expect the mean height for the first site to be around\n",
    "* 26.5 for L = 16, and \n",
    "* 53.9 for L = 32"
   ]
  },
  {
   "cell_type": "code",
   "execution_count": 5,
   "metadata": {},
   "outputs": [
    {
     "name": "stdout",
     "output_type": "stream",
     "text": [
      "Expected = 26.5, Model = 26.53, 0.12%\n",
      "Expected = 53.9, Model = 53.77, -0.25%\n"
     ]
    }
   ],
   "source": [
    "# Test 1, height_1 (L==16) = 26.5\n",
    "Oslo_16 = Oslo(16)\n",
    "avg_h1 = Oslo_16.run(N_recurrents=100000,check_slopes = True)[2]\n",
    "\n",
    "print(\"Expected = {}, Model = {:.2f}, {:.2f}%\".format(26.5,avg_h1,(avg_h1 - 26.5)/26.5 * 100))\n",
    "4\n",
    "# Test 2, height_1 (L==32) = 53.9\n",
    "Oslo_32 = Oslo(32)\n",
    "avg_h2 = Oslo_32.run(N_recurrents=100000)[2]\n",
    "print(\"Expected = {}, Model = {:.2f}, {:.2f}%\".format(53.9,avg_h2,(avg_h2 - 53.9)/53.9 * 100))"
   ]
  },
  {
   "cell_type": "code",
   "execution_count": 12,
   "metadata": {},
   "outputs": [],
   "source": [
    "# import time\n",
    "\n",
    "# start = time.time()\n",
    "# abc = Oslo(512)\n",
    "# a,b,c,d = abc.run(check_slopes = False)\n",
    "\n",
    "# end = time.time()\n",
    "\n",
    "# print(end- start)\n",
    "# print(\"DONE\")"
   ]
  },
  {
   "cell_type": "markdown",
   "metadata": {},
   "source": [
    "### 1.2 Test 3: Reduction to BTW Model (d=1)\n",
    "For p=1, this should reduce back to the BTW model for d=1, where grains are only added at i=1. BTW does not account for possible spatial and temporal fluctuations, thus the steady state of the system should occur after a grain takes avalanche steps equal to the number of sites. \n",
    "\n",
    "This was shown from the test below"
   ]
  },
  {
   "cell_type": "code",
   "execution_count": 171,
   "metadata": {},
   "outputs": [
    {
     "name": "stdout",
     "output_type": "stream",
     "text": [
      "Expected = 16, Model = 16.00\n"
     ]
    },
    {
     "data": {
      "image/png": "[encoded data removed]",
      "text/plain": [
       "<Figure size 576x360 with 1 Axes>"
      ]
     },
     "metadata": {
      "needs_background": "light"
     },
     "output_type": "display_data"
    }
   ],
   "source": [
    "# Test 3, p = 1, z_th = [1], Recurrent state should be L = 16\n",
    "BTW = Oslo(16,p = [1])\n",
    "BTW.run(plot= True,N_recurrents = 10,title = \"Oslo to BTW (d=1)\")\n",
    "\n",
    "print(\"Expected = {}, Model = {:.2f}\".format(16,mean_height))"
   ]
  },
  {
   "cell_type": "code",
   "execution_count": 69,
   "metadata": {},
   "outputs": [],
   "source": [
    "# Test: N_s, N_r\n",
    "# Test if p = 1/2, other Ls?\n",
    "# Test for another p (p = 1/3?)\n",
    "# average avalanche size / height (pg 279) --> <s> ~ L^2, but seems only apply when grains added randomly (not Oslo)\n",
    "# <influx> = <outflux>? N grains, or energy, would be applicable to oslo cuz changes!! ~ but again, not Oslo?"
   ]
  },
  {
   "cell_type": "markdown",
   "metadata": {},
   "source": [
    "### 1.3. Test 4: Recurrent Configurations\n",
    "\n",
    "For the Oslo model, we expect N_R to be 5 for L = 2"
   ]
  },
  {
   "cell_type": "code",
   "execution_count": 176,
   "metadata": {},
   "outputs": [
    {
     "name": "stdout",
     "output_type": "stream",
     "text": [
      "Configurations\n",
      "[1, 2]    157\n",
      "[2, 2]    118\n",
      "[2, 1]     87\n",
      "[1, 1]     45\n",
      "[0, 2]     38\n",
      "[1, 0]      1\n",
      "[2, 0]      1\n",
      "Name: Configurations, dtype: int64\n",
      "\n",
      "-- Additional configurations = [0,0],[2,0] or [0,1]\n",
      "\n",
      "Number of recurrent configurations = 5, expected = 5.0\n"
     ]
    }
   ],
   "source": [
    "L = 1\n",
    "N_S = 3**L\n",
    "\n",
    "def N_R(L):\n",
    "    phi = (1+np.sqrt(5))/2\n",
    "    N_R = 1/np.sqrt(5)* (phi *(1+phi)**L + 1/(phi * (1+phi)**L))\n",
    "    return N_R\n",
    "\n",
    "Oslo_2 = Oslo(2,p = [0.5,0.5])\n",
    "a,b,c,configurations,e = Oslo_2.run(plot= False,N_recurrents = 1000)\n",
    "\n",
    "df = pd.DataFrame({\"Configurations\": configurations})\n",
    "count_z =df[\"Configurations\"].value_counts()\n",
    "N_R_model = len(count_z[count_z >1])\n",
    "\n",
    "print(\"Configurations\")\n",
    "print(count_z)\n",
    "print(\"\\n-- Additional configurations = [0,0],[2,0] or [0,1]\")\n",
    "print(\"\\nNumber of recurrent configurations = {}, expected = {}\".format(N_R_model,N_R(2)))"
   ]
  },
  {
   "cell_type": "markdown",
   "metadata": {},
   "source": [
    "#### Random Funciton Efficiency Test"
   ]
  },
  {
   "cell_type": "code",
   "execution_count": 177,
   "metadata": {},
   "outputs": [
    {
     "name": "stdout",
     "output_type": "stream",
     "text": [
      "Numpy Random:  0.034378278000076534 s\n",
      "Inbuilt Random:  0.0008021239991649054 s\n"
     ]
    }
   ],
   "source": [
    "import timeit\n",
    "\n",
    "mysetup = \"\"\"\n",
    "import numpy as np\n",
    "import random\n",
    "L =100\n",
    "prob = [0.5,0.5]\n",
    "z_ths = [1,2]\n",
    "\"\"\"\n",
    "\n",
    "mycode = \"np.random.choice(z_ths,p=prob)\"\n",
    "print(\"Numpy Random: \",timeit.timeit(setup = mysetup,stmt = mycode,number = 1000),\"s\")\n",
    "\n",
    "mycode = \"random.choice(z_ths)\"\n",
    "print(\"Inbuilt Random: \",timeit.timeit(setup = mysetup,stmt = mycode,number = 1000),\"s\")"
   ]
  },
  {
   "cell_type": "markdown",
   "metadata": {},
   "source": [
    "## 2. Heights of the Pile\n",
    "\n",
    "This was implemented in the oslo model. Everytime a grain is added to the pile, the cound it increased by one. Everytime the final pile is reached, the count is reduced by negative one. Reduce by -1 as allows for multiple avalanches caused by one grain that could reduce the heights further.\n",
    "\n",
    "Height of the pile $h(t;L)$is defined as \n",
    "\n",
    "$$h(t;L) = \\sum^L_{i=1}z_i(t)$$\n",
    "\n",
    "where $z_i(t)$ are the slopes. This essentially finds the sum of all the slopes, to find the height of the first pile.\n",
    "\n"
   ]
  },
  {
   "cell_type": "markdown",
   "metadata": {},
   "source": [
    "### Task 2a\n",
    "Increasing the size of the system, would increase the number of recurrent configurations, as seen from the plot below. Recurrent configurations occur when the height of the pile begins to fluctuate around a certain value. \n",
    "\n",
    "Seems to follow a logarithmic distribution?"
   ]
  },
  {
   "cell_type": "code",
   "execution_count": 140,
   "metadata": {
    "scrolled": false
   },
   "outputs": [
    {
     "name": "stdout",
     "output_type": "stream",
     "text": [
      "2\n",
      "4\n",
      "8\n",
      "16\n",
      "32\n",
      "64\n"
     ]
    },
    {
     "data": {
      "text/plain": [
       "<matplotlib.legend.Legend at 0x19f010d8828>"
      ]
     },
     "execution_count": 140,
     "metadata": {},
     "output_type": "execute_result"
    },
    {
     "data": {
      "image/png": "[encoded data removed]",
      "text/plain": [
       "<Figure size 432x288 with 1 Axes>"
      ]
     },
     "metadata": {
      "needs_background": "light"
     },
     "output_type": "display_data"
    }
   ],
   "source": [
    "sizes = [2,4,8,16,32,64]\n",
    "Oslo_models = [Oslo(L) for L in sizes]\n",
    "\n",
    "for Oslo_L in Oslo_models:\n",
    "    Oslo_L.run(N_recurrents = 1000)\n",
    "    time,heights = Oslo_L.get_heights()\n",
    "plt.legend()"
   ]
  },
  {
   "cell_type": "markdown",
   "metadata": {},
   "source": [
    "### Task 2b\n",
    "Cross-over time is the number of grains $\\textbf{before}$ an added grain induces a grain to leave the system. It is seen as $t_c(L)$:\n",
    "$$t_c(L) = \\sum_{i=1}^{L} z_i  i$$\n",
    "\n",
    "where $z_i$ are the local slopes in the system to which an added grain induces a flow out of the system for the first time.\n",
    "\n",
    "Numerically add to t_c, until you enter the condition where it enters the last site. At this point "
   ]
  },
  {
   "cell_type": "code",
   "execution_count": 147,
   "metadata": {},
   "outputs": [
    {
     "name": "stdout",
     "output_type": "stream",
     "text": [
      "[1.3246492985971945, 3.3937875751503004, 7.534623217922607, 16.64033264033264, 40.976166832174776, 198.90017211703957, 260.71084337349396, 642.7301293900185, 593.7356608478804, 848.4846335697399]\n"
     ]
    },
    {
     "data": {
      "text/plain": [
       "Text(0, 0.5, 'Average cross-over time $<t_C>$')"
      ]
     },
     "execution_count": 147,
     "metadata": {},
     "output_type": "execute_result"
    },
    {
     "data": {
      "image/png": "[encoded data removed]",
      "text/plain": [
       "<Figure size 432x288 with 1 Axes>"
      ]
     },
     "metadata": {
      "needs_background": "light"
     },
     "output_type": "display_data"
    }
   ],
   "source": [
    "sizes = np.array([2,4,8,16,32,64,80,100,110,128])\n",
    "Oslo_models = [Oslo(L) for L in sizes]\n",
    "\n",
    "avgs = []\n",
    "for Oslo_L in Oslo_models:\n",
    "    Oslo_L.run(N_recurrents = 1000)\n",
    "    time = Oslo_L.get_cross_over_times()\n",
    "    avg_time = np.mean(time)\n",
    "    avgs.append(avg_time)\n",
    "    \n",
    "print(avgs)\n",
    "plt.plot(sizes,avgs)\n",
    "plt.xlabel(\"System size (L)\")\n",
    "plt.ylabel(\"Average cross-over time $<t_C>$\")"
   ]
  },
  {
   "cell_type": "markdown",
   "metadata": {},
   "source": [
    "# Questions \n",
    "2. A method to calculate i=1 for different values of p?"
   ]
  },
  {
   "cell_type": "code",
   "execution_count": null,
   "metadata": {},
   "outputs": [],
   "source": []
  }
 ],
 "metadata": {
  "kernelspec": {
   "display_name": "Python 3",
   "language": "python",
   "name": "python3"
  },
  "language_info": {
   "codemirror_mode": {
    "name": "ipython",
    "version": 3
   },
   "file_extension": ".py",
   "mimetype": "text/x-python",
   "name": "python",
   "nbconvert_exporter": "python",
   "pygments_lexer": "ipython3",
   "version": "3.7.3"
  }
 },
 "nbformat": 4,
 "nbformat_minor": 2
}
