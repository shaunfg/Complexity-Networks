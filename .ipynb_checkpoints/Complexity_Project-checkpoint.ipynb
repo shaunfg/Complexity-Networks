{
 "cells": [
  {
   "cell_type": "markdown",
   "metadata": {},
   "source": [
    "# Complexity Project\n",
    "\n",
    "Aim of complexity is to understand a subclass non-equilibrium systems\n",
    "\n",
    "Models studies include:\n",
    "1. Oslo Model"
   ]
  },
  {
   "cell_type": "code",
   "execution_count": 4,
   "metadata": {},
   "outputs": [],
   "source": [
    "import numpy as np\n",
    "import random\n",
    "import matplotlib.pyplot as plt"
   ]
  },
  {
   "cell_type": "markdown",
   "metadata": {},
   "source": [
    "### 1. Oslo Model\n",
    "Grains are added to the left most pile, when the system has entered a staircase recurrent configuration, the grain the take L steps, before leaving the system. \n",
    "\n",
    "A recurrent configuration means that the system has reached a steady state, as it only occurs after all transient configurations have occured. This applied to BTW model, i believe this also applied to oslo.\n",
    "\n",
    "\n",
    "\n"
   ]
  },
  {
   "cell_type": "code",
   "execution_count": 5,
   "metadata": {},
   "outputs": [],
   "source": [
    "def plot_bar(z,title = \"Oslo Model\"):\n",
    "    heights = np.cumsum(z[::-1])[::-1] #indexing to reverse list\n",
    "    plt.figure(figsize= (8,5))\n",
    "    plt.bar(np.arange(1,len(z)+1,1),heights)\n",
    "    plt.title(title)\n",
    "    plt.ylabel(\"Heights\")\n",
    "    plt.xlabel(\"sites\")"
   ]
  },
  {
   "cell_type": "code",
   "execution_count": 16,
   "metadata": {},
   "outputs": [
    {
     "name": "stdout",
     "output_type": "stream",
     "text": [
      "5\n"
     ]
    },
    {
     "data": {
      "text/plain": [
       "(array([2, 1]),\n",
       " [1, 1],\n",
       " 2.909090909090909,\n",
       " [[1, 0], [0, 1], [1, 1], [0, 2], [1, 2], [2, 2], [1, 2], [1, 2], [1, 1]])"
      ]
     },
     "execution_count": 16,
     "metadata": {},
     "output_type": "execute_result"
    },
    {
     "data": {
      "image/png": "[encoded data removed]",
      "text/plain": [
       "<Figure size 576x360 with 1 Axes>"
      ]
     },
     "metadata": {
      "needs_background": "light"
     },
     "output_type": "display_data"
    }
   ],
   "source": [
    "def Oslo(L,plot = False,p = 1/2,N_recurrents = 1000,title = None):\n",
    "    \"\"\"\n",
    "    Parameters\n",
    "    L: Number of sites \n",
    "    plot: Plots heights if true\n",
    "    p: probability\n",
    "    N_recurrents: Number of recurrent runs after reaching steady state\n",
    "    \"\"\"\n",
    "    # Allows for change in probabilities\n",
    "    n = int(1/p) # Number of thresholds, from probability\n",
    "    prob = [p]*n \n",
    "    z_ths = np.arange(1,n+1,1) # Generates possible thresholds [1,2,...]\n",
    "#     print(z_ths)\n",
    "    \n",
    "    # Initialisation\n",
    "    z = [0]*L\n",
    "    z_th = [np.random.choice(z_ths,p=prob) for x in range(L)]\n",
    "    \n",
    "    # Variables for testing\n",
    "    avalanches = []\n",
    "    end_value = 0\n",
    "    z_avg_steady = []\n",
    "    steady = False # To \n",
    "    N_full_avalanche = 0 # Tracks full avalanches\n",
    "    configurations = [] # Find number of unique configurations\n",
    "    outflux = 0\n",
    "    \n",
    "    while end_value < N_recurrents :\n",
    "        \n",
    "        # Drive\n",
    "        z[0] +=1 \n",
    "        \n",
    "        # Relaxation - Checks all slopes z relaxed, before driving again\n",
    "        while any(x > y for x,y in zip(z,z_th)) == True:#z[i] > z_th[i]:\n",
    "            s=0\n",
    "            \n",
    "            for i in range(len(z)):\n",
    "                if z[i] > z_th[i]:\n",
    "                    s+=1\n",
    "\n",
    "                    if i == 0:\n",
    "                        z[0] = z[0] - 2\n",
    "                        z[1] = z[1] + 1\n",
    "\n",
    "                    elif i == len(z)-1: #index 0,...,L-1 ; len to L \n",
    "                        z[-1] = z[-1] - 1\n",
    "                        z[-2] = z[-2] + 1\n",
    "                        if steady == True: outflux+=1\n",
    "                    else:\n",
    "                        z[i] = z[i] - 2\n",
    "                        z[i+1] = z[i+1] + 1\n",
    "                        z[i-1] = z[i-1] + 1\n",
    "                        \n",
    "                    \n",
    "                    # Only resets if topples\n",
    "                    z_th[i] = np.random.choice(z_ths,p=prob)\n",
    "\n",
    "                avalanches.append(s)\n",
    "                \n",
    "                # If avalance size is whole length of sites\n",
    "                if s == L:\n",
    "                    steady = True\n",
    "                    N_full_avalanche+=1\n",
    "                    \n",
    "                if steady == True:\n",
    "                    end_value +=1\n",
    "                    z_avg_steady.append(np.cumsum(z[::-1])[::-1][0])\n",
    "        \n",
    "        configurations.append(z[:])\n",
    "#         plot_bar(z[:])\n",
    "\n",
    "        # Check \n",
    "        if any(x > max(z_ths) for x in z) == True:\n",
    "            raise ValueError(\"Not all sites relaxed\")\n",
    "            \n",
    "    # Obtains cumulative sum of slopes, to represent heights\n",
    "    heights = np.cumsum(z[::-1])[::-1] #indexing to reverse list\n",
    "    \n",
    "    if plot == True:\n",
    "        plot_bar(z,title = title)\n",
    "    \n",
    "    print(outflux)\n",
    "    return heights,z,np.mean(z_avg_steady),configurations\n",
    "\n",
    "Oslo(2,p = 1/2,plot= True,N_recurrents = 10)"
   ]
  },
  {
   "cell_type": "markdown",
   "metadata": {},
   "source": [
    "#TODO\n",
    "1. Figure out how to stop the iterations\n",
    "    I don't think you can us avalanche size because it is random in this\n",
    "2. Devise own tests, to test on different values of p (e.g. p = 1), Ns Nr"
   ]
  },
  {
   "cell_type": "markdown",
   "metadata": {},
   "source": [
    "###### Test 1,2: Expected Heights at site i =1\n",
    "For p = 1/2, we expect the mean height for the first site to be around\n",
    "* 26.5 for L = 16, and \n",
    "* 53.9 for L = 32"
   ]
  },
  {
   "cell_type": "code",
   "execution_count": 87,
   "metadata": {},
   "outputs": [
    {
     "name": "stdout",
     "output_type": "stream",
     "text": [
      "Expected = 26.5, Model = 27.31, 3.06%\n",
      "Expected = 53.9, Model = 53.34, -1.03%\n"
     ]
    }
   ],
   "source": [
    "# Test 1, height_1 (L==16) = 26.5\n",
    "avg_h1 = Oslo(16)[2]\n",
    "\n",
    "print(\"Expected = {}, Model = {:.2f}, {:.2f}%\".format(26.5,avg_h1,(avg_h1 - 26.5)/26.5 * 100))\n",
    "\n",
    "# Test 2, height_1 (L==32) = 53.9\n",
    "avg_h1 = Oslo(32)[2]\n",
    "print(\"Expected = {}, Model = {:.2f}, {:.2f}%\".format(53.9,avg_h1,(avg_h1 - 53.9)/53.9 * 100))"
   ]
  },
  {
   "cell_type": "markdown",
   "metadata": {},
   "source": [
    "###### Test 3: Reduction to BTW Model (d=1)\n",
    "For p=1, this should reduce back to the BTW model for d=1, where grains are only added at i=1. BTW does not account for possible spatial and temporal fluctuations, thus the steady state of the system should occur after a grain takes avalanche steps equal to the number of sites. \n",
    "\n",
    "This was shown from the test below"
   ]
  },
  {
   "cell_type": "code",
   "execution_count": 99,
   "metadata": {},
   "outputs": [
    {
     "name": "stdout",
     "output_type": "stream",
     "text": [
      "Expected = 16, Model = 16.00\n"
     ]
    },
    {
     "data": {
      "image/png": "[encoded data removed]",
      "text/plain": [
       "<Figure size 576x360 with 1 Axes>"
      ]
     },
     "metadata": {
      "needs_background": "light"
     },
     "output_type": "display_data"
    }
   ],
   "source": [
    "# Test 3, p = 1, z_th = [1], Recurrent state should be L = 16\n",
    "a,b, mean_height,d = Oslo(16,p = 1/1,plot= True,N_recurrents = 10,title = \"Oslo to BTW (d=1)\")\n",
    "\n",
    "print(\"Expected = {}, Model = {:.2f}\".format(16,mean_height))"
   ]
  },
  {
   "cell_type": "code",
   "execution_count": 2,
   "metadata": {},
   "outputs": [],
   "source": [
    "# Test: N_s, N_r\n",
    "# Test if p = 1/2, other Ls?\n",
    "# Test for another p (p = 1/3?)\n",
    "# average avalanche size / height (pg 279) --> <s> ~ L^2, but seems only apply when grains added randomly (not Oslo)\n",
    "# <influx> = <outflux>? N grains, or energy, would be applicable to oslo cuz changes!! ~ but again, not Oslo?"
   ]
  },
  {
   "cell_type": "markdown",
   "metadata": {},
   "source": [
    "###### Test 4: Recurrent Configurations\n",
    "\n",
    "For the Oslo model, we expect N_R to be 5 for L = 2"
   ]
  },
  {
   "cell_type": "code",
   "execution_count": 103,
   "metadata": {},
   "outputs": [
    {
     "data": {
      "image/png": "[encoded data removed]",
      "text/plain": [
       "<Figure size 576x360 with 1 Axes>"
      ]
     },
     "metadata": {
      "needs_background": "light"
     },
     "output_type": "display_data"
    }
   ],
   "source": [
    "# L = 1\n",
    "N_S = 3**L\n",
    "\n",
    "def N_R(L):\n",
    "    phi = (1+np.sqrt(5))/2\n",
    "    N_R = 1/np.sqrt(5)* (phi *(1+phi)**L + 1/(phi * (1+phi)**L))\n",
    "    return N_R\n",
    "\n",
    "N_R(2)\n",
    "a,b,c,configurations = Oslo(2,p = 1/2,plot= True,N_recurrents = 10)\n",
    "\n",
    "abc = [list(x) for x in set(tuple(x) for x in configurations)]\n",
    "\n",
    "# [plot_bar(abc[x]) for x in range(len(abc))]"
   ]
  },
  {
   "cell_type": "markdown",
   "metadata": {},
   "source": [
    "# Questions \n",
    "1. What exactly is a recurrent configuration?\n",
    "    * Only after it reaches a steady state right?\n",
    "    * Notes say not all stable states are recurrent, are everything after steady state recurrent?\n",
    "        * Recurrent states before steady state?\n",
    "        \n",
    "\n"
   ]
  },
  {
   "cell_type": "code",
   "execution_count": null,
   "metadata": {},
   "outputs": [],
   "source": []
  }
 ],
 "metadata": {
  "kernelspec": {
   "display_name": "Python 3",
   "language": "python",
   "name": "python3"
  },
  "language_info": {
   "codemirror_mode": {
    "name": "ipython",
    "version": 3
   },
   "file_extension": ".py",
   "mimetype": "text/x-python",
   "name": "python",
   "nbconvert_exporter": "python",
   "pygments_lexer": "ipython3",
   "version": "3.7.4"
  }
 },
 "nbformat": 4,
 "nbformat_minor": 2
}
