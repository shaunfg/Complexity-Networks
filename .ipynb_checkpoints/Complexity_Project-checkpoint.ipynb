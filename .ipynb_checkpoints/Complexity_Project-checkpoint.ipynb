{
 "cells": [
  {
   "cell_type": "markdown",
   "metadata": {},
   "source": [
    "# Complexity Project\n",
    "\n",
    "Aim of complexity is to understand a subclass non-equilibrium systems\n",
    "\n",
    "Models studies include:\n",
    "1. Oslo Model"
   ]
  },
  {
   "cell_type": "code",
   "execution_count": 68,
   "metadata": {},
   "outputs": [],
   "source": [
    "import numpy as np\n",
    "import random\n",
    "import matplotlib.pyplot as plt\n",
    "import pandas as pd\n",
    "from itertools import zip_longest"
   ]
  },
  {
   "cell_type": "markdown",
   "metadata": {},
   "source": [
    "### 1. Oslo Model\n",
    "Grains are added to the left most pile, when the system has entered a staircase recurrent configuration, the grain the take L steps, before leaving the system. \n",
    "\n",
    "A recurrent configuration means that the system has reached a steady state, as it only occurs after all transient configurations have occured. Will occur with a frequency greater than one.\n",
    "\n",
    "Previously, the Oslo model algorithm such that \n",
    "1. slopes would be driven, \n",
    "2. slopes would be relaxed changing z configuration. \n",
    "3. Check if any slope is larger than their threshold\n",
    "    * If yes, repeat iteration across all slopes to relax\n",
    "    * If no, generate new threshold and return to step 1)\n",
    "    \n",
    "Although simple, this implementation was extremely inefficient and would begin to face difficulty for system sizes of L > 50. Thus a more calculated approach was taken for the Oslo model, the algorithm goes as follows:\n",
    "\n",
    "1. Drive slope\n",
    "2. Relax slope i\n",
    "3. Append to a list adjacent slopes of i (i.e. i+1, i-1), if z = z_+th + 1 (next_slopes)\n",
    "    * If i = 1, or i = L, reduce only one neighbouring slope: i= 2 and i = L-1 respectively\n",
    "4. If next_slopes are not empty, i.e. there are sites to relax, relax sites and repeat 3) if there are unrelaxed slopes. \n",
    "5. if next_slopes is empty, generate new random threshold and return to step 1) and drive system\n",
    "\n",
    "- If in an edge case, where at site i has z_th of 1, and both site i-1 and site i+1 reduce, this would not reduce the slope sufficiently to be below the threshold. Thus append site i to next_slopes to relax in the following iteration\n",
    "\n",
    "You wouldnt'expect the slope thresholds to be evenly split, because you are only driven from site i=1. Thus there are slopes closer to i =1 that are more regularly updated, in comparison to sites later down the slope. The fact that the later slopes remain in a certain threshold will skew the distribution"
   ]
  },
  {
   "cell_type": "code",
   "execution_count": 3,
   "metadata": {},
   "outputs": [],
   "source": [
    "def plot_bar(z,title = \"Oslo Model\"):\n",
    "    heights = np.cumsum(z[::-1])[::-1] #indexing to reverse list\n",
    "    plt.figure(figsize= (8,5))\n",
    "    plt.bar(np.arange(1,len(z)+1,1),heights)\n",
    "    plt.title(title)\n",
    "    plt.ylabel(\"Heights\")\n",
    "    plt.xlabel(\"sites\")"
   ]
  },
  {
   "cell_type": "code",
   "execution_count": 296,
   "metadata": {},
   "outputs": [
    {
     "data": {
      "text/plain": [
       "103"
      ]
     },
     "execution_count": 296,
     "metadata": {},
     "output_type": "execute_result"
    },
    {
     "data": {
      "image/png": "[encoded data removed]",
      "text/plain": [
       "<Figure size 432x288 with 1 Axes>"
      ]
     },
     "metadata": {
      "needs_background": "light"
     },
     "output_type": "display_data"
    }
   ],
   "source": [
    "class Oslo:\n",
    "    \"\"\"\n",
    "    Parameters\n",
    "    L: Number of sites \n",
    "    plot: Plots heights if true\n",
    "    p: probability\n",
    "    N_recurrents: Number of recurrent runs after reaching steady state\n",
    "    \"\"\"\n",
    "    \n",
    "    def __init__(self,L, p =[1/2,1/2]):\n",
    "        self.p = p\n",
    "        self.L = L\n",
    "\n",
    "    def run(self, plot=False, N_recurrents=None,title=None, check_slopes = False,N_runs = None):\n",
    "\n",
    "        z = [0] * self.L\n",
    "\n",
    "        # Allows for change in probabilities\n",
    "        n = len(self.p)  # Number of thresholds, from probability\n",
    "        z_ths = np.arange(1, n + 1, 1)  # Generates possible thresholds [1,2,...]\n",
    "\n",
    "        # Initialisation\n",
    "        z_th = [random.choice(z_ths) for x in range(self.L)]\n",
    "\n",
    "        # Variables for testing\n",
    "        end_value = 0\n",
    "        avalanches = []\n",
    "        z_avg_steady = []\n",
    "        crossover = False  # To\n",
    "        N_full_avalanche = 0  # Tracks full avalanches\n",
    "        configurations = []  # Find number of unique configurations\n",
    "        self.delta_heights = [0]\n",
    "        self.cross_over_time = 0\n",
    "        cross_over_time = 0\n",
    "\n",
    "        if N_runs != None:\n",
    "            N_count = N_runs\n",
    "        elif N_recurrents != None:\n",
    "            N_count = N_recurrents\n",
    "        \n",
    "        while end_value < N_count:\n",
    "\n",
    "            # Drive\n",
    "            z[0] += 1\n",
    "            s = 0\n",
    "            del_h = 1\n",
    "            slopes_to_relax = [0]\n",
    "\n",
    "            # Relaxation - Checks all slopes z relaxed, before driving again\n",
    "            while len(slopes_to_relax) != 0:\n",
    "                check_slopes = slopes_to_relax\n",
    "                next_slopes = []\n",
    "                for i in slopes_to_relax:\n",
    "                    if z[i] > z_th[i]:\n",
    "                        s += 1\n",
    "                        if i == 0:\n",
    "                            z[i] = z[i] - 2\n",
    "                            z[i+1] = z[i+1] + 1\n",
    "                            if z[i+1] == z_th[i+1] + 1:\n",
    "                                next_slopes.append(i+1)\n",
    "                            if crossover == False: cross_over_time += 1\n",
    "                            del_h -= 1\n",
    "\n",
    "                        elif i == len(z) - 1:  # index 0,...,L-1 ; len to L\n",
    "                \n",
    "                            z[len(z) - 1] = z[len(z) - 1] - 1\n",
    "                            z[len(z) - 2] = z[len(z) - 2] + 1\n",
    "                            crossover = True\n",
    "                            if z[len(z) - 2] == z_th[len(z) - 2] + 1:\n",
    "                                next_slopes.append(len(z) - 2)\n",
    "#                             if steady == True: outflux += 1\n",
    "                            \n",
    "                            if self.cross_over_time == 0: self.cross_over_time = cross_over_time\n",
    "\n",
    "                        else:\n",
    "                            z[i] = z[i] - 2\n",
    "                            z[i + 1] = z[i + 1] + 1\n",
    "                            z[i - 1] = z[i - 1] + 1\n",
    "\n",
    "                            if z[i+1] == z_th[i+1] + 1:\n",
    "                                next_slopes.append(i+1)\n",
    "                            if z[i-1] == z_th[i-1] + 1:\n",
    "                                next_slopes.append(i-1)\n",
    "                            \n",
    "                        z_th[i] = random.choice(z_ths)\n",
    "                        if z[i] > z_th[i]:\n",
    "                            next_slopes.append(i)\n",
    "                    else:\n",
    "                        if crossover == False: cross_over_time += 1\n",
    "                        pass\n",
    "\n",
    "                if len(next_slopes) > 0:\n",
    "                    # Finds unique next slopes.\n",
    "                    slopes_to_relax = list(set(next_slopes))\n",
    "\n",
    "                else:\n",
    "                    slopes_to_relax = []\n",
    "\n",
    "                # If avalance size is whole length of sites\n",
    "    #             if s == L:\n",
    "    # #                 print(s,z)\n",
    "    #                 steady = True\n",
    "    #                 N_full_avalanche += 1\n",
    "\n",
    "\n",
    "                avalanches.append(s)\n",
    "            # out of loop\n",
    "            if N_runs != None:\n",
    "                end_value +=1\n",
    "            elif crossover == True:\n",
    "                end_value += 1\n",
    "                z_avg_steady.append(np.cumsum(z[::-1])[::-1][0])\n",
    "#             else:\n",
    "#                 raise ValueError(\"Not Counting!!\")\n",
    "\n",
    "                \n",
    "            self.delta_heights.append(del_h)\n",
    "                \n",
    "            configurations.append(z[:])\n",
    "\n",
    "            # Check\n",
    "            if check_slopes == True:\n",
    "                if any(x > max(z_ths) for x in z) == True:\n",
    "                    print(z,z_th)\n",
    "                    print(check_slopes)\n",
    "\n",
    "                    raise ValueError(\"Not all sites relaxed\")\n",
    "\n",
    "        # Obtains cumulative sum of slopes, to represent heights\n",
    "        final_heights = np.cumsum(z[::-1])[::-1]  # indexing to reverse list\n",
    "\n",
    "        if plot == True:\n",
    "            plot_bar(z)\n",
    "        self.z = z\n",
    "\n",
    "        return final_heights, z, np.mean(z_avg_steady), configurations\n",
    "    \n",
    "    def get_heights(self,plot = True):\n",
    "#         print(len(self.z))\n",
    "        heights = np.cumsum(self.delta_heights)\n",
    "        time = np.arange(1,len(heights)+1,1)\n",
    "        if plot == True:\n",
    "            plt.xlabel(\"Time\")\n",
    "            plt.ylabel(\"Height\")\n",
    "            plt.title(\"Height of pile against time\")\n",
    "            plt.plot(time,heights,label = \"L = {}\".format(self.L))\n",
    "        return time, heights\n",
    "    \n",
    "    def get_cross_over_times(self):\n",
    "#         plt.axvline(self.cross_over_time)\n",
    "        return self.cross_over_time\n",
    "\n",
    "check = Oslo(10)\n",
    "check.run(N_runs = 1000)\n",
    "check.get_heights()\n",
    "check.get_cross_over_times()"
   ]
  },
  {
   "cell_type": "markdown",
   "metadata": {},
   "source": [
    "#TODO\n",
    "1. Figure out how to stop the iterations\n",
    "    I don't think you can us avalanche size because it is random in this\n",
    "2. Devise own tests, to test on different values of p (e.g. p = 1), Ns Nr\n",
    "3. Need to sort out steady state of Oslo, currently not entirely correct; \n",
    "4. Measure rate at which slopes changing??"
   ]
  },
  {
   "cell_type": "markdown",
   "metadata": {},
   "source": [
    "### 1.1. Test 1,2: Expected Heights at site i =1\n",
    "For p = 1/2, we expect the mean height for the first site to be around\n",
    "* 26.5 for L = 16, and \n",
    "* 53.9 for L = 32"
   ]
  },
  {
   "cell_type": "code",
   "execution_count": 293,
   "metadata": {},
   "outputs": [
    {
     "name": "stdout",
     "output_type": "stream",
     "text": [
      "Expected = 26.5, Model = 26.52, 0.08%\n"
     ]
    },
    {
     "ename": "KeyboardInterrupt",
     "evalue": "",
     "output_type": "error",
     "traceback": [
      "\u001b[0;31m---------------------------------------------------------------------------\u001b[0m",
      "\u001b[0;31mKeyboardInterrupt\u001b[0m                         Traceback (most recent call last)",
      "\u001b[0;32m<ipython-input-293-783d794bdeda>\u001b[0m in \u001b[0;36m<module>\u001b[0;34m\u001b[0m\n\u001b[1;32m      7\u001b[0m \u001b[0;31m# Test 2, height_1 (L==32) = 53.9\u001b[0m\u001b[0;34m\u001b[0m\u001b[0;34m\u001b[0m\u001b[0;34m\u001b[0m\u001b[0m\n\u001b[1;32m      8\u001b[0m \u001b[0mOslo_32\u001b[0m \u001b[0;34m=\u001b[0m \u001b[0mOslo\u001b[0m\u001b[0;34m(\u001b[0m\u001b[0;36m32\u001b[0m\u001b[0;34m)\u001b[0m\u001b[0;34m\u001b[0m\u001b[0;34m\u001b[0m\u001b[0m\n\u001b[0;32m----> 9\u001b[0;31m \u001b[0mavg_h2\u001b[0m \u001b[0;34m=\u001b[0m \u001b[0mOslo_32\u001b[0m\u001b[0;34m.\u001b[0m\u001b[0mrun\u001b[0m\u001b[0;34m(\u001b[0m\u001b[0mN_recurrents\u001b[0m\u001b[0;34m=\u001b[0m\u001b[0;36m100000\u001b[0m\u001b[0;34m)\u001b[0m\u001b[0;34m[\u001b[0m\u001b[0;36m2\u001b[0m\u001b[0;34m]\u001b[0m\u001b[0;34m\u001b[0m\u001b[0;34m\u001b[0m\u001b[0m\n\u001b[0m\u001b[1;32m     10\u001b[0m \u001b[0mprint\u001b[0m\u001b[0;34m(\u001b[0m\u001b[0;34m\"Expected = {}, Model = {:.2f}, {:.2f}%\"\u001b[0m\u001b[0;34m.\u001b[0m\u001b[0mformat\u001b[0m\u001b[0;34m(\u001b[0m\u001b[0;36m53.9\u001b[0m\u001b[0;34m,\u001b[0m\u001b[0mavg_h2\u001b[0m\u001b[0;34m,\u001b[0m\u001b[0;34m(\u001b[0m\u001b[0mavg_h2\u001b[0m \u001b[0;34m-\u001b[0m \u001b[0;36m53.9\u001b[0m\u001b[0;34m)\u001b[0m\u001b[0;34m/\u001b[0m\u001b[0;36m53.9\u001b[0m \u001b[0;34m*\u001b[0m \u001b[0;36m100\u001b[0m\u001b[0;34m)\u001b[0m\u001b[0;34m)\u001b[0m\u001b[0;34m\u001b[0m\u001b[0;34m\u001b[0m\u001b[0m\n",
      "\u001b[0;32m<ipython-input-292-874d79444809>\u001b[0m in \u001b[0;36mrun\u001b[0;34m(self, plot, N_recurrents, title, check_slopes, N_runs)\u001b[0m\n\u001b[1;32m     78\u001b[0m                             \u001b[0mz\u001b[0m\u001b[0;34m[\u001b[0m\u001b[0mi\u001b[0m \u001b[0;34m-\u001b[0m \u001b[0;36m1\u001b[0m\u001b[0;34m]\u001b[0m \u001b[0;34m=\u001b[0m \u001b[0mz\u001b[0m\u001b[0;34m[\u001b[0m\u001b[0mi\u001b[0m \u001b[0;34m-\u001b[0m \u001b[0;36m1\u001b[0m\u001b[0;34m]\u001b[0m \u001b[0;34m+\u001b[0m \u001b[0;36m1\u001b[0m\u001b[0;34m\u001b[0m\u001b[0;34m\u001b[0m\u001b[0m\n\u001b[1;32m     79\u001b[0m \u001b[0;34m\u001b[0m\u001b[0m\n\u001b[0;32m---> 80\u001b[0;31m                             \u001b[0;32mif\u001b[0m \u001b[0mz\u001b[0m\u001b[0;34m[\u001b[0m\u001b[0mi\u001b[0m\u001b[0;34m+\u001b[0m\u001b[0;36m1\u001b[0m\u001b[0;34m]\u001b[0m \u001b[0;34m==\u001b[0m \u001b[0mz_th\u001b[0m\u001b[0;34m[\u001b[0m\u001b[0mi\u001b[0m\u001b[0;34m+\u001b[0m\u001b[0;36m1\u001b[0m\u001b[0;34m]\u001b[0m \u001b[0;34m+\u001b[0m \u001b[0;36m1\u001b[0m\u001b[0;34m:\u001b[0m\u001b[0;34m\u001b[0m\u001b[0;34m\u001b[0m\u001b[0m\n\u001b[0m\u001b[1;32m     81\u001b[0m                                 \u001b[0mnext_slopes\u001b[0m\u001b[0;34m.\u001b[0m\u001b[0mappend\u001b[0m\u001b[0;34m(\u001b[0m\u001b[0mi\u001b[0m\u001b[0;34m+\u001b[0m\u001b[0;36m1\u001b[0m\u001b[0;34m)\u001b[0m\u001b[0;34m\u001b[0m\u001b[0;34m\u001b[0m\u001b[0m\n\u001b[1;32m     82\u001b[0m                             \u001b[0;32mif\u001b[0m \u001b[0mz\u001b[0m\u001b[0;34m[\u001b[0m\u001b[0mi\u001b[0m\u001b[0;34m-\u001b[0m\u001b[0;36m1\u001b[0m\u001b[0;34m]\u001b[0m \u001b[0;34m==\u001b[0m \u001b[0mz_th\u001b[0m\u001b[0;34m[\u001b[0m\u001b[0mi\u001b[0m\u001b[0;34m-\u001b[0m\u001b[0;36m1\u001b[0m\u001b[0;34m]\u001b[0m \u001b[0;34m+\u001b[0m \u001b[0;36m1\u001b[0m\u001b[0;34m:\u001b[0m\u001b[0;34m\u001b[0m\u001b[0;34m\u001b[0m\u001b[0m\n",
      "\u001b[0;31mKeyboardInterrupt\u001b[0m: "
     ]
    }
   ],
   "source": [
    "# Test 1, height_1 (L==16) = 26.5\n",
    "Oslo_16 = Oslo(16)\n",
    "avg_h1 = Oslo_16.run(N_recurrents=100000,check_slopes = True)[2]\n",
    "\n",
    "print(\"Expected = {}, Model = {:.2f}, {:.2f}%\".format(26.5,avg_h1,(avg_h1 - 26.5)/26.5 * 100))\n",
    "4\n",
    "# Test 2, height_1 (L==32) = 53.9\n",
    "Oslo_32 = Oslo(32)\n",
    "avg_h2 = Oslo_32.run(N_recurrents=100000)[2]\n",
    "print(\"Expected = {}, Model = {:.2f}, {:.2f}%\".format(53.9,avg_h2,(avg_h2 - 53.9)/53.9 * 100))"
   ]
  },
  {
   "cell_type": "code",
   "execution_count": null,
   "metadata": {},
   "outputs": [],
   "source": [
    "# import time\n",
    "\n",
    "# start = time.time()\n",
    "# abc = Oslo(512)\n",
    "# a,b,c,d = abc.run(check_slopes = False)\n",
    "\n",
    "# end = time.time()\n",
    "\n",
    "# print(end- start)\n",
    "# print(\"DONE\")"
   ]
  },
  {
   "cell_type": "markdown",
   "metadata": {},
   "source": [
    "### 1.2 Test 3: Reduction to BTW Model (d=1)\n",
    "For p=1, this should reduce back to the BTW model for d=1, where grains are only added at i=1. BTW does not account for possible spatial and temporal fluctuations, thus the steady state of the system should occur after a grain takes avalanche steps equal to the number of sites. \n",
    "\n",
    "This was shown from the test below"
   ]
  },
  {
   "cell_type": "code",
   "execution_count": null,
   "metadata": {},
   "outputs": [],
   "source": [
    "# Test 3, p = 1, z_th = [1], Recurrent state should be L = 16\n",
    "BTW = Oslo(16,p = [1])\n",
    "BTW.run(plot= True,N_recurrents = 10,title = \"Oslo to BTW (d=1)\")\n",
    "time,height = BTW.get_heights(plot = False)\n",
    "print(\"Expected = {}, Model = {:.2f}\".format(16,height[0]))"
   ]
  },
  {
   "cell_type": "code",
   "execution_count": null,
   "metadata": {},
   "outputs": [],
   "source": [
    "# Test: N_s, N_r\n",
    "# Test if p = 1/2, other Ls?\n",
    "# Test for another p (p = 1/3?)\n",
    "# average avalanche size / height (pg 279) --> <s> ~ L^2, but seems only apply when grains added randomly (not Oslo)\n",
    "# <influx> = <outflux>? N grains, or energy, would be applicable to oslo cuz changes!! ~ but again, not Oslo?"
   ]
  },
  {
   "cell_type": "markdown",
   "metadata": {},
   "source": [
    "### 1.3. Test 4: Recurrent Configurations\n",
    "\n",
    "For the Oslo model, we expect N_R to be 5 for L = 2"
   ]
  },
  {
   "cell_type": "code",
   "execution_count": null,
   "metadata": {},
   "outputs": [],
   "source": [
    "L = 1\n",
    "N_S = 3**L\n",
    "\n",
    "def N_R(L):\n",
    "    phi = (1+np.sqrt(5))/2\n",
    "    N_R = 1/np.sqrt(5)* (phi *(1+phi)**L + 1/(phi * (1+phi)**L))\n",
    "    return N_R\n",
    "\n",
    "Oslo_2 = Oslo(2,p = [0.5,0.5])\n",
    "a,b,c,configurations = Oslo_2.run(plot= False,N_recurrents = 1000)\n",
    "\n",
    "df = pd.DataFrame({\"Configurations\": configurations})\n",
    "count_z =df[\"Configurations\"].value_counts()\n",
    "N_R_model = len(count_z[count_z >1])\n",
    "\n",
    "print(\"Configurations\")\n",
    "print(count_z)\n",
    "print(\"\\n-- Additional configurations = [0,0],[2,0] or [0,1]\")\n",
    "print(\"\\nNumber of recurrent configurations = {}, expected = {}\".format(N_R_model,N_R(2)))"
   ]
  },
  {
   "cell_type": "markdown",
   "metadata": {},
   "source": [
    "#### Random Funciton Efficiency Test"
   ]
  },
  {
   "cell_type": "code",
   "execution_count": null,
   "metadata": {},
   "outputs": [],
   "source": [
    "import timeit\n",
    "\n",
    "mysetup = \"\"\"\n",
    "import numpy as np\n",
    "import random\n",
    "L =100\n",
    "prob = [0.5,0.5]\n",
    "z_ths = [1,2]\n",
    "\"\"\"\n",
    "\n",
    "mycode = \"np.random.choice(z_ths,p=prob)\"\n",
    "print(\"Numpy Random: \",timeit.timeit(setup = mysetup,stmt = mycode,number = 1000),\"s\")\n",
    "\n",
    "mycode = \"random.choice(z_ths)\"\n",
    "print(\"Inbuilt Random: \",timeit.timeit(setup = mysetup,stmt = mycode,number = 1000),\"s\")"
   ]
  },
  {
   "cell_type": "markdown",
   "metadata": {},
   "source": [
    "## 2. Height of the Pile\n",
    "\n",
    "This was implemented in the oslo model. Everytime a grain is added to the pile, the cound it increased by one. Everytime the final pile is reached, the count is reduced by negative one. Reduce by -1 as allows for multiple avalanches caused by one grain that could reduce the heights further.\n",
    "\n",
    "Height of the pile $h(t;L)$is defined as \n",
    "\n",
    "$$h(t;L) = \\sum^L_{i=1}z_i(t)$$\n",
    "\n",
    "where $z_i(t)$ are the slopes. This essentially finds the sum of all the slopes, to find the height of the first pile.\n",
    "\n"
   ]
  },
  {
   "cell_type": "markdown",
   "metadata": {},
   "source": [
    "### Task 2a \n",
    "Increasing the size of the system, would increase the number of recurrent configurations, as seen from the plot below. Recurrent configurations occur when the height of the pile begins to fluctuate around a certain value. \n",
    "\n",
    "Seems to follow a logarithmic distribution?"
   ]
  },
  {
   "cell_type": "code",
   "execution_count": 427,
   "metadata": {},
   "outputs": [],
   "source": [
    "sizes = np.array([2,4,8,16,32,64,128,256])\n",
    "sizes = np.array([2,4,8,16,32])"
   ]
  },
  {
   "cell_type": "code",
   "execution_count": 333,
   "metadata": {
    "scrolled": false
   },
   "outputs": [
    {
     "data": {
      "text/plain": [
       "<matplotlib.legend.Legend at 0x11f94bd50>"
      ]
     },
     "execution_count": 333,
     "metadata": {},
     "output_type": "execute_result"
    },
    {
     "data": {
      "image/png": "[encoded data removed]",
      "text/plain": [
       "<Figure size 432x288 with 1 Axes>"
      ]
     },
     "metadata": {
      "needs_background": "light"
     },
     "output_type": "display_data"
    }
   ],
   "source": [
    "Oslo_models = [Oslo(L) for L in sizes]\n",
    "\n",
    "times_sample = []\n",
    "heights_sample = []\n",
    "\n",
    "for Oslo_L in Oslo_models:\n",
    "    Oslo_L.run(N_runs = 5000)\n",
    "#     Oslo_L.run(N_recurrents = 1000)\n",
    "    time,height = Oslo_L.get_heights()\n",
    "    times_sample.append(time)\n",
    "    heights_sample.append(height)\n",
    "plt.legend()"
   ]
  },
  {
   "cell_type": "markdown",
   "metadata": {},
   "source": [
    "### Task 2b\n",
    "Cross-over time is the number of grains $\\textbf{before}$ an added grain induces a grain to leave the system. It is seen as $t_c(L)$:\n",
    "$$t_c(L) = \\sum_{i=1}^{L} z_i  i$$\n",
    "\n",
    "where $z_i$ are the local slopes in the system to which an added grain induces a flow out of the system for the first time.\n",
    "\n",
    "Numerically add to t_c, until you enter the condition where it enters the last site. At this point "
   ]
  },
  {
   "cell_type": "code",
   "execution_count": null,
   "metadata": {},
   "outputs": [],
   "source": []
  },
  {
   "cell_type": "code",
   "execution_count": 334,
   "metadata": {},
   "outputs": [
    {
     "name": "stdout",
     "output_type": "stream",
     "text": [
      "[4, 5, 5, 4, 4, 4, 5, 5, 5, 4]\n",
      "[16, 18, 14, 22, 18, 20, 20, 13, 16, 20]\n",
      "[74, 74, 75, 66, 87, 77, 73, 53, 74, 76]\n",
      "[]\n"
     ]
    },
    {
     "data": {
      "text/plain": [
       "Text(0, 0.5, 'Average cross-over time $<t_C>$')"
      ]
     },
     "execution_count": 334,
     "metadata": {},
     "output_type": "execute_result"
    },
    {
     "data": {
      "image/png": "[encoded data removed]",
      "text/plain": [
       "<Figure size 432x288 with 1 Axes>"
      ]
     },
     "metadata": {
      "needs_background": "light"
     },
     "output_type": "display_data"
    },
    {
     "data": {
      "image/png": "[encoded data removed]",
      "text/plain": [
       "<Figure size 432x288 with 1 Axes>"
      ]
     },
     "metadata": {
      "needs_background": "light"
     },
     "output_type": "display_data"
    }
   ],
   "source": [
    "Oslo_models = [Oslo(L) for L in sizes]\n",
    "\n",
    "crossover_avgs = []\n",
    "for Oslo_L in Oslo_models:\n",
    "    times = []\n",
    "    for N in range(10):\n",
    "        Oslo_L.run(N_recurrents = 1)\n",
    "        times.append(Oslo_L.get_cross_over_times())\n",
    "    print(times)\n",
    "    avg_time = np.mean(times)\n",
    "    crossover_avgs.append(avg_time)\n",
    "    \n",
    "[plt.axvline(crossover_avgs[i])for i in range(len(crossover_avgs))]\n",
    "[plt.plot(times_sample[i],heights_sample[i])for i in range(len(times_sample))]\n",
    "print(avgs)\n",
    "\n",
    "plt.figure()\n",
    "plt.plot(sizes,crossover_avgs)\n",
    "plt.xlabel(\"System size (L)\")\n",
    "plt.ylabel(\"Average cross-over time $<t_C>$\")"
   ]
  },
  {
   "cell_type": "markdown",
   "metadata": {},
   "source": [
    "### Task 2c\n",
    "\n",
    "a. Considering the height of the pile $h(t;L)$ as \n",
    "\n",
    "$$h(t;L) = \\sum^L_{i=1}z_i(t)$$\n",
    "\n",
    "where $L$ is the length/size of the system, $z_i$ is the slope at site $i$ and $t$ is time or number of grains added to system since the start. We can approximate all the slopes at all sites $i$ in the above equation as an average value. This reduces the equation to\n",
    "\n",
    "$$\\begin{equation}\\begin{aligned} h(t;L) &= \\sum^L_{i=1}<z> \\\\&= L \\cdot <z>  \\\\ \\Rightarrow h(t;L) &\\propto L\\end{aligned}\\end{equation}$$\n",
    "\n",
    "\n",
    "thus showing that $h(t;L) \\propto L$ in a linear relationship.\n",
    "\n",
    "b. Similarly for cross-over time, we have the following relation\n",
    "\n",
    "$$t_c(L) = \\sum^L_{i=1} z_i \\cdot i$$\n",
    "\n",
    "where $t_c(L)$ is the cross-over time. We can perform the same apprroximation of averaging all the slopes, to remove the slopes from the sum. Applying the arithmetic sum formula $S_n = \\frac{N(N+1)}{2}$, we obtain\n",
    "\n",
    "\n",
    "$$\\begin{equation}\\begin{aligned} t_c(L) &= <z> \\cdot \\sum^L_{i=1}  i \\\\ &=  <z> \\cdot \\frac{L(L+1)}{2} \\approx <z> \\cdot L^2 \\\\ \\Rightarrow t_c(L) &\\propto L^2 \\end{aligned}\\end{equation}$$\n",
    "\n",
    "showing cross-over time approximated as a quadratic relation.\n"
   ]
  },
  {
   "cell_type": "markdown",
   "metadata": {},
   "source": [
    "### Task 2d \n",
    "\n",
    "Smooth out the data using\n",
    "\n",
    "$$\\tilde h(t;L) = \\frac{1}{M} \\sum^M_{j=1} h^j(t;L) $$\n"
   ]
  },
  {
   "cell_type": "code",
   "execution_count": 428,
   "metadata": {},
   "outputs": [],
   "source": [
    "Oslo_models = [Oslo(L) for L in sizes]\n",
    "\n",
    "heights = []\n",
    "\n",
    "avgs = []\n",
    "for Oslo_L in Oslo_models:\n",
    "    heights_full = []\n",
    "    crossover_times = []\n",
    "    for N in range(10):\n",
    "        Oslo_L.run(N_runs=10000)\n",
    "        time,heights_L = Oslo_L.get_heights(plot = False)\n",
    "        heights_full.append(heights_L)\n",
    "\n",
    "    # Adds lists of different lengths\n",
    "    height = np.array([(n) for n in zip_longest(*heights_full)])\n",
    "    height = [np.mean(list(filter(None, height[i]))) for i in range(len(height))]\n",
    "    \n",
    "    # First value is Nan, as mean of zero\n",
    "    height.remove(height[0]) \n",
    "\n",
    "    heights.append(height)"
   ]
  },
  {
   "cell_type": "markdown",
   "metadata": {},
   "source": [
    "### Finite Scaling Ansatz\n",
    "\n",
    "The somewhat counterintuitive idea behind finite-size scaling is to use the dependence of measured properties on finite system size to extract critical exponents for the infinite system.\n",
    "\n",
    "$$h(t;L)\\propto t^{\\tau}\\mathcal{F}\\Big(\\frac{t}{t_C}\\Big)$$\n",
    "\n",
    "where define $x = \\frac{t}{t_C}$\n",
    "\n",
    "We can also describe cross-over time as \n",
    "\n",
    "$$ t_C \\propto L^D $$\n",
    "\n",
    "where $L$ is the length of the system and D is another critical exponent\n",
    "\n",
    "From the situation in Task 2c), we expect $h \\sim L$ and $t_C \\sim L^2$, indicating $D \\sim 2$. Combining these two situations, for times less than the cross over time, we expect the height to change as $h \\sim \\sqrt{t}$, hence the first exponent we will try is 0.5. This is reinforced as when looking at $h$ against $t$ on a non-log plot, the transient state looks to progress as a square root function. \n",
    "\n",
    "The point of this is to align vertically the cut off height of the pile; aligning the 'height' where the decay occurs. 'height' as align in height * time^tau\n",
    "\n",
    "Then can apply the scaling ansatz, to find an expression that can describe an infinite system size, through its critical components, by extrapolating from a sample of finite size systems.\n",
    "\n",
    "From analysing the log plots of heights, we can see that the scaling ansatz should follow\n",
    "\n",
    "$$\\mathcal{F} \\propto \\left\\{\\begin{array}{ll}\n",
    "{\\mathcal{F}(0)+\\mathcal{F}^{\\prime}(0) x+\\frac{1}{2} \\mathcal{F}^{\\prime \\prime}(0) x^{2}+\\cdots} & {\\text { if } t\\ll t_C \\text{ (or }x \\ll 1)} \\\\\n",
    "{\\text{constant}} & {\\text { if } t \\gg t_C \\text{ (or } x \\gg 1)} \n",
    "\\end{array}\\right.$$\n",
    "\n",
    "Must be like this so that it applies the decay at the correct time\n",
    "\n",
    "and again since, we know t ~ L^2, we expect D ~ 2. \n"
   ]
  },
  {
   "cell_type": "code",
   "execution_count": 1,
   "metadata": {},
   "outputs": [
    {
     "ename": "NameError",
     "evalue": "name 'np' is not defined",
     "output_type": "error",
     "traceback": [
      "\u001b[0;31m---------------------------------------------------------------------------\u001b[0m",
      "\u001b[0;31mNameError\u001b[0m                                 Traceback (most recent call last)",
      "\u001b[0;32m<ipython-input-1-9fe3881babd8>\u001b[0m in \u001b[0;36m<module>\u001b[0;34m\u001b[0m\n\u001b[0;32m----> 1\u001b[0;31m \u001b[0mtimes\u001b[0m \u001b[0;34m=\u001b[0m \u001b[0mnp\u001b[0m\u001b[0;34m.\u001b[0m\u001b[0marange\u001b[0m\u001b[0;34m(\u001b[0m\u001b[0;36m1\u001b[0m\u001b[0;34m,\u001b[0m\u001b[0mlen\u001b[0m\u001b[0;34m(\u001b[0m\u001b[0mheight\u001b[0m\u001b[0;34m)\u001b[0m\u001b[0;34m+\u001b[0m\u001b[0;36m1\u001b[0m\u001b[0;34m,\u001b[0m\u001b[0;36m1\u001b[0m\u001b[0;34m)\u001b[0m\u001b[0;34m\u001b[0m\u001b[0;34m\u001b[0m\u001b[0m\n\u001b[0m\u001b[1;32m      2\u001b[0m \u001b[0;34m\u001b[0m\u001b[0m\n\u001b[1;32m      3\u001b[0m \u001b[0mplt\u001b[0m\u001b[0;34m.\u001b[0m\u001b[0mfigure\u001b[0m\u001b[0;34m(\u001b[0m\u001b[0mfigsize\u001b[0m \u001b[0;34m=\u001b[0m \u001b[0;34m(\u001b[0m\u001b[0;36m8\u001b[0m\u001b[0;34m,\u001b[0m\u001b[0;36m5\u001b[0m\u001b[0;34m)\u001b[0m\u001b[0;34m)\u001b[0m\u001b[0;34m\u001b[0m\u001b[0;34m\u001b[0m\u001b[0m\n\u001b[1;32m      4\u001b[0m \u001b[0mplt\u001b[0m\u001b[0;34m.\u001b[0m\u001b[0mylabel\u001b[0m\u001b[0;34m(\u001b[0m\u001b[0;34m\"$h(t;L)$\"\u001b[0m\u001b[0;34m,\u001b[0m\u001b[0mfontsize\u001b[0m \u001b[0;34m=\u001b[0m \u001b[0;36m22\u001b[0m\u001b[0;34m)\u001b[0m\u001b[0;34m\u001b[0m\u001b[0;34m\u001b[0m\u001b[0m\n\u001b[1;32m      5\u001b[0m \u001b[0mplt\u001b[0m\u001b[0;34m.\u001b[0m\u001b[0mxlabel\u001b[0m\u001b[0;34m(\u001b[0m\u001b[0;34m\"$t$\"\u001b[0m\u001b[0;34m,\u001b[0m\u001b[0mfontsize\u001b[0m \u001b[0;34m=\u001b[0m \u001b[0;36m22\u001b[0m\u001b[0;34m)\u001b[0m\u001b[0;34m\u001b[0m\u001b[0;34m\u001b[0m\u001b[0m\n",
      "\u001b[0;31mNameError\u001b[0m: name 'np' is not defined"
     ]
    }
   ],
   "source": [
    "times = np.arange(1,len(height)+1,1)\n",
    "\n",
    "plt.figure(figsize = (8,5))\n",
    "plt.ylabel(\"$h(t;L)$\",fontsize = 22)\n",
    "plt.xlabel(\"$t$\",fontsize = 22)\n",
    "plt.title(\"Height or pile against time - log plot\",fontsize = 22)\n",
    "[plt.loglog(times,heights[i]) for i in range(len(heights))]\n",
    "[plt.axvline(x = x) for x in crossover_avgs]"
   ]
  },
  {
   "cell_type": "code",
   "execution_count": 2,
   "metadata": {},
   "outputs": [
    {
     "ename": "NameError",
     "evalue": "name 'plt' is not defined",
     "output_type": "error",
     "traceback": [
      "\u001b[0;31m---------------------------------------------------------------------------\u001b[0m",
      "\u001b[0;31mNameError\u001b[0m                                 Traceback (most recent call last)",
      "\u001b[0;32m<ipython-input-2-288053f437ad>\u001b[0m in \u001b[0;36m<module>\u001b[0;34m\u001b[0m\n\u001b[0;32m----> 1\u001b[0;31m \u001b[0mplt\u001b[0m\u001b[0;34m.\u001b[0m\u001b[0mfigure\u001b[0m\u001b[0;34m(\u001b[0m\u001b[0mfigsize\u001b[0m \u001b[0;34m=\u001b[0m \u001b[0;34m(\u001b[0m\u001b[0;36m8\u001b[0m\u001b[0;34m,\u001b[0m\u001b[0;36m5\u001b[0m\u001b[0;34m)\u001b[0m\u001b[0;34m)\u001b[0m\u001b[0;34m\u001b[0m\u001b[0;34m\u001b[0m\u001b[0m\n\u001b[0m\u001b[1;32m      2\u001b[0m \u001b[0;34m\u001b[0m\u001b[0m\n\u001b[1;32m      3\u001b[0m \u001b[0mtau\u001b[0m \u001b[0;34m=\u001b[0m \u001b[0;34m-\u001b[0m\u001b[0;36m0.56\u001b[0m \u001b[0;31m#inversed tau\u001b[0m\u001b[0;34m\u001b[0m\u001b[0;34m\u001b[0m\u001b[0m\n\u001b[1;32m      4\u001b[0m \u001b[0mtimes_tau\u001b[0m \u001b[0;34m=\u001b[0m \u001b[0mnp\u001b[0m\u001b[0;34m.\u001b[0m\u001b[0marray\u001b[0m\u001b[0;34m(\u001b[0m\u001b[0mlist\u001b[0m\u001b[0;34m(\u001b[0m\u001b[0mmap\u001b[0m\u001b[0;34m(\u001b[0m\u001b[0mfloat\u001b[0m\u001b[0;34m,\u001b[0m\u001b[0mtimes\u001b[0m\u001b[0;34m)\u001b[0m\u001b[0;34m)\u001b[0m\u001b[0;34m)\u001b[0m \u001b[0;34m**\u001b[0m \u001b[0;34m(\u001b[0m\u001b[0mtau\u001b[0m\u001b[0;34m)\u001b[0m\u001b[0;34m\u001b[0m\u001b[0;34m\u001b[0m\u001b[0m\n\u001b[1;32m      5\u001b[0m \u001b[0mheights_t\u001b[0m \u001b[0;34m=\u001b[0m \u001b[0;34m[\u001b[0m\u001b[0mheights\u001b[0m\u001b[0;34m[\u001b[0m\u001b[0mi\u001b[0m\u001b[0;34m]\u001b[0m \u001b[0;34m*\u001b[0m \u001b[0mtimes_tau\u001b[0m \u001b[0;32mfor\u001b[0m \u001b[0mi\u001b[0m \u001b[0;32min\u001b[0m \u001b[0mrange\u001b[0m\u001b[0;34m(\u001b[0m\u001b[0mlen\u001b[0m\u001b[0;34m(\u001b[0m\u001b[0mheights\u001b[0m\u001b[0;34m)\u001b[0m\u001b[0;34m)\u001b[0m\u001b[0;34m]\u001b[0m\u001b[0;34m\u001b[0m\u001b[0;34m\u001b[0m\u001b[0m\n",
      "\u001b[0;31mNameError\u001b[0m: name 'plt' is not defined"
     ]
    }
   ],
   "source": [
    "plt.figure(figsize = (8,5))\n",
    "\n",
    "tau = -0.56 #inversed tau\n",
    "times_tau = np.array(list(map(float,times))) ** (tau)\n",
    "heights_t = [heights[i] * times_tau for i in range(len(heights))]\n",
    "\n",
    "plt.figure(figsize = (8,5))\n",
    "plt.title(r\"Height scaled against time; vertically align cutoff; $\\tau$ = {}\".format(- tau))\n",
    "plt.ylabel(r\"$h(t;L) \\cdot t^{- \\tau}$\",fontsize =22)\n",
    "plt.xlabel(\"$t$\",fontsize = 22)\n",
    "[plt.loglog(times,heights_t[i],label = \"L = {}\".format(sizes[i])) for i in range(len(heights))]\n",
    "plt.legend()"
   ]
  },
  {
   "cell_type": "code",
   "execution_count": 483,
   "metadata": {},
   "outputs": [
    {
     "data": {
      "text/plain": [
       "<matplotlib.legend.Legend at 0x14ee971d0>"
      ]
     },
     "execution_count": 483,
     "metadata": {},
     "output_type": "execute_result"
    },
    {
     "data": {
      "image/png": "[encoded data removed]",
      "text/plain": [
       "<Figure size 576x360 with 1 Axes>"
      ]
     },
     "metadata": {
      "needs_background": "light"
     },
     "output_type": "display_data"
    }
   ],
   "source": [
    "D = 1.85\n",
    "\n",
    "plt.figure(figsize = (8,5))\n",
    "\n",
    "plt.title(r\"Scaled form; $\\tau$ = {}, D = {}\".format(- tau,D),fontsize = 18)\n",
    "plt.xlabel(\"$t / L^D$\",fontsize = 22)\n",
    "plt.ylabel(r\"$h(t;L) \\cdot t^{- \\tau}$\",fontsize =22)\n",
    "times_L = [times/ L**D for L in sizes]\n",
    "[plt.loglog(times_L[i],heights_t[i],label = \"L = {}\".format(sizes[i])) for i in range(len(heights))]\n",
    "plt.legend()"
   ]
  },
  {
   "cell_type": "code",
   "execution_count": null,
   "metadata": {},
   "outputs": [],
   "source": []
  },
  {
   "cell_type": "markdown",
   "metadata": {},
   "source": [
    "# Questions \n",
    "2. A method to calculate i=1 for different values of p?"
   ]
  },
  {
   "cell_type": "code",
   "execution_count": null,
   "metadata": {},
   "outputs": [],
   "source": []
  },
  {
   "cell_type": "code",
   "execution_count": null,
   "metadata": {},
   "outputs": [],
   "source": []
  },
  {
   "cell_type": "code",
   "execution_count": null,
   "metadata": {},
   "outputs": [],
   "source": []
  },
  {
   "cell_type": "code",
   "execution_count": null,
   "metadata": {},
   "outputs": [],
   "source": []
  },
  {
   "cell_type": "code",
   "execution_count": null,
   "metadata": {},
   "outputs": [],
   "source": []
  }
 ],
 "metadata": {
  "kernelspec": {
   "display_name": "Python 3",
   "language": "python",
   "name": "python3"
  },
  "language_info": {
   "codemirror_mode": {
    "name": "ipython",
    "version": 3
   },
   "file_extension": ".py",
   "mimetype": "text/x-python",
   "name": "python",
   "nbconvert_exporter": "python",
   "pygments_lexer": "ipython3",
   "version": "3.7.4"
  }
 },
 "nbformat": 4,
 "nbformat_minor": 2
}
