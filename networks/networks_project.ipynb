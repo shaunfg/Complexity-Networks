{
 "cells": [
  {
   "cell_type": "markdown",
   "metadata": {},
   "source": [
    "# Networks Project\n"
   ]
  },
  {
   "cell_type": "code",
   "execution_count": 1,
   "metadata": {},
   "outputs": [],
   "source": [
    "import networkx as nx\n",
    "import numpy as np\n",
    "import matplotlib.pyplot as plt\n",
    "import pandas as pd\n",
    "import random\n",
    "from collections import Counter"
   ]
  },
  {
   "cell_type": "code",
   "execution_count": 23,
   "metadata": {},
   "outputs": [
    {
     "data": {
      "image/png": "[encoded data removed]",
      "text/plain": [
       "<Figure size 432x288 with 1 Axes>"
      ]
     },
     "metadata": {},
     "output_type": "display_data"
    }
   ],
   "source": [
    "G = nx.Graph()\n",
    "\n",
    "#G.add_node(1)\n",
    "#H = nx.path_graph(10)\n",
    "#G.add_nodes_from(H)\n",
    "G.add_nodes_from([1,2,3])\n",
    "\n",
    "G.add_edge(1,1)\n",
    "#G.add_edges_from([(2,1),(1,3)])\n",
    "\n",
    "nx.draw(G, with_labels=True, font_weight='bold')"
   ]
  },
  {
   "cell_type": "markdown",
   "metadata": {},
   "source": [
    "## Barabasi-Albert Model\n",
    "\n",
    "Add exception error to prevent m > m0\n",
    "\n",
    "Used a preferential list. Makes a list of of the every edge connection to a vertex. Having a larger number of these causes it to have a higher probability across the whole list. "
   ]
  },
  {
   "cell_type": "code",
   "execution_count": 17,
   "metadata": {},
   "outputs": [],
   "source": [
    "class BA():\n",
    "    \n",
    "    def __init__(self,time_limit,m,m_start):\n",
    "        \"\"\"\n",
    "        time_limit: run time until this value\n",
    "        m: number edges to add every time a new vertex is added\n",
    "        m0: int, set up initial graph. \n",
    "        \"\"\"\n",
    "        G0 = nx.Graph()\n",
    "        m_start = [x+1 for x in range(m_start)]\n",
    "                \n",
    "        G0.add_nodes_from(m_start)\n",
    "        G0.add_edges_from([(x+1,x+2) for x in range(len(m_start)-1)])\n",
    "        t = 0\n",
    "        \n",
    "        self.m = m\n",
    "        self.G = G0\n",
    "        self.preferential_list = m_start\n",
    "        self.time_limit = time_limit\n",
    "        \n",
    "        if self.m > len(m_start):\n",
    "            raise ValueError(\"m value must be less than initial graph value\")\n",
    "    \n",
    "    def run(self):\n",
    "        for t in range(1,self.time_limit + 1):\n",
    "            node = t + 2 #Find the node number\n",
    "            \n",
    "            connections = []\n",
    "            for i in range(self.m):\n",
    "                edge = random.choice(self.preferential_list)\n",
    "                while edge in connections:\n",
    "                    edge = random.choice(self.preferential_list)\n",
    "                connections.append(edge)\n",
    "            \n",
    "            edges = [(node,x) for x in (connections)]\n",
    "            \n",
    "            # Extend list of preferentials with the the vertices, both to and from \n",
    "            [self.preferential_list.extend(e) for e in edges]\n",
    "\n",
    "            self.G.add_node(node)\n",
    "            self.G.add_edges_from(edges)\n",
    "            \n",
    "    def get_degrees(self):\n",
    "        return self.preferential_list\n",
    "    \n",
    "    def draw(self):\n",
    "        nx.draw(self.G, with_labels=True, font_weight='bold')"
   ]
  },
  {
   "cell_type": "code",
   "execution_count": 18,
   "metadata": {},
   "outputs": [],
   "source": [
    "time = 100000\n",
    "\n",
    "Ba = BA(time_limit = time,m = 1,m_start = 2)\n",
    "Ba.run()\n",
    "# Ba.draw()\n",
    "prefs = Ba.get_degrees()\n",
    "\n",
    "\n",
    "# plt.figure()\n",
    "# # plt.hist(prefs,bins = time+1)\n",
    "# plt.hist(prefs,bins = int((time+1)/3))\n",
    "# print(\"checks\")\n"
   ]
  },
  {
   "cell_type": "markdown",
   "metadata": {},
   "source": [
    "Now check your programme is working correctly. This is very important. You need to explain in your report why you think your numerical results are correct."
   ]
  }
 ],
 "metadata": {
  "kernelspec": {
   "display_name": "Python 3",
   "language": "python",
   "name": "python3"
  },
  "language_info": {
   "codemirror_mode": {
    "name": "ipython",
    "version": 3
   },
   "file_extension": ".py",
   "mimetype": "text/x-python",
   "name": "python",
   "nbconvert_exporter": "python",
   "pygments_lexer": "ipython3",
   "version": "3.7.4"
  }
 },
 "nbformat": 4,
 "nbformat_minor": 2
}
